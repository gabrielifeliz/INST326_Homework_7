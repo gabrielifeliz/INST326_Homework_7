{
 "cells": [
  {
   "cell_type": "markdown",
   "metadata": {},
   "source": [
    "# Homework #7 Classes (Robots)"
   ]
  },
  {
   "cell_type": "markdown",
   "metadata": {},
   "source": [
    "Imagine you are creating a game in which robots on two teams battle each other. A robot has an energy attribute which determines the amount of force the robot can use in attacking. Robots can combine with other robots to form compound robots; this allows them to pool their energy and mount larger attacks. For this assignment, you will develop two classes, Robot and CompoundRobot."
   ]
  },
  {
   "cell_type": "markdown",
   "metadata": {},
   "source": [
    "Write a class Robot that conforms to the following specifications:\n",
    "\n",
    "1. It has an \\__init\\__() method with an optional parameter for the name of the robot (the default value should be None). The \\__init\\__() method should set the following attributes to the following values:\n",
    "<br>__name__: the name passed as a parameter to \\__init\\__()\n",
    "<br>__energy__: 20 (all robots start out with 20 energy)\n",
    "<br>__compound__: None (if the robot becomes part of a compound robot, this attribute will be used to store a reference to the specific CompoundRobot object the robot is part of)\n",
    "\n",
    "2. It has an \\__add\\__() method with a parameter that is another robot object. This method should return a CompoundRobot object consisting of the two robots (see below).\n",
    "\n",
    "3. It has an attack() method with a parameter that is another robot object and an energy amount. The robot with the largest energy of the two robots, gains the energy amount and the other robot looses the energy amount. If the loosing robot doesn't have the energy amount, the winning robot only gains the amount of the loosing robot - 1. and the loosing robot looses all energy except 1. If the robots have the same amount of energy, the attacking robot will loose the energy amount and the \"attacked\" robot will remain the same."
   ]
  },
  {
   "cell_type": "code",
   "execution_count": 11,
   "metadata": {},
   "outputs": [],
   "source": [
    "#define your class Robot here - don't forget docstrings\n",
    "class Robot:\n",
    "    \"\"\"\n",
    "    This is the definition of a robot with a name, energy, or compound\n",
    "    that attacks other robots and unite with another robot\n",
    "    to become a compound robot\n",
    "    \"\"\"\n",
    "    def __init__(self, name=None, energy=20, compound=None):\n",
    "        \"\"\"\n",
    "        Initialize the name, energy level, and compound robot instance\n",
    "        for this robot if there are any passed arguments\n",
    "        \"\"\"\n",
    "        self.name = name\n",
    "        self.energy = energy\n",
    "        self.compound = compound\n",
    "\n",
    "    def __add__(self, other):\n",
    "        \"\"\"\n",
    "        Add this robot to another to create a CompoundRobot object\n",
    "        and set compound robot reference to both robots\n",
    "        Args:\n",
    "            (Robot obj): Another robot to be combined with this one\n",
    "        Returns:\n",
    "            (CompoundRobot obj): Combined robots into one compound robot\n",
    "        \"\"\"\n",
    "        # Create compound robot\n",
    "        compound_robot = CompoundRobot(self, other)\n",
    "        # Set compound robot reference to this robot\n",
    "        self.compound = compound_robot\n",
    "        # Set compound robot reference to the other robot\n",
    "        other.compound = compound_robot\n",
    "        # Return compound robot\n",
    "        return compound_robot\n",
    "\n",
    "    def attack(self, other, energy):\n",
    "        \"\"\"\n",
    "        Robots attack each other with a given energy\n",
    "        - Whichever robot has the highest energy\n",
    "            takes the given energy from the other\n",
    "        - If the other has less energy than the given one,\n",
    "            the winning robot only takes the amount of the losing robot - 1\n",
    "        - If the robots have the same energy,\n",
    "            the attacking robot loses the given energy\n",
    "            and the attacked robot remains the same\n",
    "        Args:\n",
    "            (Robot obj): Another robot to battle against\n",
    "            (integer): Amount of energy taken away\n",
    "        \"\"\"\n",
    "\n",
    "        # This robot may lose the given energy or all its energy - 1\n",
    "        lose_self = self.energy - 1 if self.energy < energy else energy\n",
    "        # The other robot may lose the given energy or all its energy - 1\n",
    "        lose_other = other.energy - 1 if other.energy < energy else energy\n",
    "\n",
    "        # Check if this robot has the greater energy\n",
    "        if self.energy > other.energy:\n",
    "            # This robot gets energy points from the other robot\n",
    "            self.energy += lose_other\n",
    "            other.energy -= lose_other\n",
    "        # Check if the other robot has the greater energy\n",
    "        elif self.energy < other.energy:\n",
    "            # The other robot gets energy points from this robot\n",
    "            other.energy += lose_self\n",
    "            self.energy -= lose_self\n",
    "        # Check if both robots have the same energy\n",
    "        else:\n",
    "            # Only this robot loses given energy\n",
    "            self.energy -= energy"
   ]
  },
  {
   "cell_type": "markdown",
   "metadata": {},
   "source": [
    "Write a class CompoundRobot that is a subclass of Robot which conforms to thefollowing specifications:\n",
    "\n",
    "1. It has an __init__() method with two parameters, each of which is an instance of Robot. These are the components of the compound robot.\n",
    "<br>The __init__() method should call the __init__() method of the parent class. Then it should set the following attributes:\n",
    "<br>components: a list consisting of the two robots that were passed in as parameters\n",
    "<br>energy: the sum of the energy attributes of the component robots\n",
    "\n",
    "For each of the component robots, the __init__() method should set the robot's compound attribute to the compound robot (in other words, to self)\n",
    "\n",
    "2. It has an __iadd__() method that takes a robot as a parameter; this method should do the following:\n",
    "<br>append that robot to the compound robot's components attribute\n",
    "<br>add the value of the robot's energy attribute to the compound robot's energy attribute\n",
    "<br>set the robot's compound attribute to the compound robot (in other words, to self)\n",
    "<br>return self"
   ]
  },
  {
   "cell_type": "code",
   "execution_count": 12,
   "metadata": {},
   "outputs": [],
   "source": [
    "#define your class CompoundRobot here - don't forget docstrings\n",
    "class CompoundRobot(Robot):\n",
    "    \"\"\"\n",
    "    This is the definition of a compound robot\n",
    "    with initial two robots that can receive more robots\n",
    "    as well as attack other robots like a simple robot\n",
    "    \"\"\"\n",
    "    def __init__(self, robot1, robot2):\n",
    "        \"\"\"\n",
    "        Initialize the components and energy of this compound robots\n",
    "        with two robots and their energy points\n",
    "        \"\"\"\n",
    "        super().__init__()\n",
    "        self.components = [robot1, robot2]\n",
    "        self.energy = robot1.energy + robot2.energy\n",
    "\n",
    "    def __iadd__(self, other):\n",
    "        \"\"\"\n",
    "        Add this robot to this compound robot\n",
    "        and set compound robot reference of additional robot\n",
    "        to this compound robot\n",
    "        Args:\n",
    "            (Robot obj): Another robot to be combined with\n",
    "                this compound robot\n",
    "        Returns:\n",
    "            (CompoundRobot obj): This compound robot with additional robot\n",
    "        \"\"\"\n",
    "        # Add robot to compound robot components\n",
    "        self.components.append(other)\n",
    "        # Add energy level\n",
    "        self.energy += other.energy\n",
    "        # Set compound robot reference to the other robot\n",
    "        other.compound = self\n",
    "        return self"
   ]
  },
  {
   "cell_type": "markdown",
   "metadata": {},
   "source": [
    "# Testing"
   ]
  },
  {
   "cell_type": "code",
   "execution_count": 13,
   "metadata": {},
   "outputs": [
    {
     "name": "stdout",
     "output_type": "stream",
     "text": [
      "Robot 0 has name of None\n",
      "Robot 1 energy: 20\n",
      "Robot 2 energy: 20\n"
     ]
    }
   ],
   "source": [
    "#Should print:\n",
    "#Robot 0 has name of None\n",
    "# Robot 1 energy: 20\n",
    "# Robot 2 energy: 20\n",
    "robot0 = Robot()\n",
    "robot1 = Robot('robot1')\n",
    "robot2 = Robot('robot2')\n",
    "robot3 = Robot('robot3')\n",
    "print('Robot 0 has name of',robot0.name)\n",
    "print('Robot 1 energy:', robot1.energy)\n",
    "print('Robot 2 energy:', robot2.energy)"
   ]
  },
  {
   "cell_type": "code",
   "execution_count": 14,
   "metadata": {
    "scrolled": false
   },
   "outputs": [
    {
     "name": "stdout",
     "output_type": "stream",
     "text": [
      "Combined robot 1 and robot 2 into a combo robot named Brutus\n",
      "Brutus energy 40\n",
      "Brutus composed of robot1 and robot2\n",
      "Robot 1 component of Brutus\n"
     ]
    }
   ],
   "source": [
    "#Should print:\n",
    "# Combined robot 1 and robot 2 into a combo robot named Brutus\n",
    "# Brutus energy 40\n",
    "# Brutus composed of robot1 and robot2\n",
    "# Robot 1 component of Brutus\n",
    "print(\"Combined robot 1 and robot 2 into a combo robot named Brutus\")\n",
    "compound_robot = robot1 + robot2\n",
    "setattr(compound_robot,'name','Brutus')\n",
    "print(compound_robot.name,'energy',compound_robot.energy)\n",
    "print(compound_robot.name,'composed of',compound_robot.components[0].name,'and',compound_robot.components[1].name)\n",
    "print('Robot 1 component of',getattr(robot1,'compound').name)"
   ]
  },
  {
   "cell_type": "code",
   "execution_count": 15,
   "metadata": {},
   "outputs": [
    {
     "name": "stdout",
     "output_type": "stream",
     "text": [
      "Robot 3 energy: 20\n",
      "Brutus energy 40\n",
      "After adding robot 3 to Brutus\n",
      "Brutus energy 60\n",
      "Robot 3 is a component of Brutus\n"
     ]
    }
   ],
   "source": [
    "#should print:\n",
    "# Robot 3 energy: 20\n",
    "# Brutus energy 40\n",
    "# After adding robot 3 to Brutus\n",
    "# Brutus energy 60\n",
    "# Robot 3 is a component of Brutus\n",
    "\n",
    "print('Robot 3 energy:', robot3.energy)\n",
    "print(compound_robot.name,'energy',compound_robot.energy)\n",
    "compound_robot += robot3\n",
    "print('After adding robot 3 to',compound_robot.name)\n",
    "print(compound_robot.name,'energy',compound_robot.energy)\n",
    "print('Robot 3 is a component of',getattr(robot3,'compound').name)"
   ]
  },
  {
   "cell_type": "code",
   "execution_count": 16,
   "metadata": {
    "scrolled": false
   },
   "outputs": [
    {
     "name": "stdout",
     "output_type": "stream",
     "text": [
      "Robot 4 energy: 20\n",
      "Robot 5 energy: 20\n",
      "After attack\n",
      "Robot 4 energy: 16\n",
      "Robot 5 energy: 20\n"
     ]
    }
   ],
   "source": [
    "#should print:\n",
    "# Robot 4 energy: 20\n",
    "# Robot 5 energy: 20\n",
    "# After attack\n",
    "# Robot 4 energy: 16\n",
    "# Robot 5 energy: 20\n",
    "robot4 = Robot('robot4')\n",
    "robot5 = Robot('robot5')\n",
    "print('Robot 4 energy:', robot4.energy)\n",
    "print('Robot 5 energy:', robot5.energy)\n",
    "robot4.attack(robot5,4)\n",
    "print(\"After attack\")\n",
    "print('Robot 4 energy:', robot4.energy)\n",
    "print('Robot 5 energy:', robot5.energy)"
   ]
  },
  {
   "cell_type": "code",
   "execution_count": 17,
   "metadata": {},
   "outputs": [
    {
     "name": "stdout",
     "output_type": "stream",
     "text": [
      "Robot 4 energy: 20\n",
      "Robot 5 energy: 20\n",
      "After attack\n",
      "Robot 4 energy: 16\n",
      "Robot 5 energy: 20\n",
      "After 2nd attack\n",
      "Robot 4 energy: 12\n",
      "Robot 5 energy: 24\n"
     ]
    }
   ],
   "source": [
    "#Should print:\n",
    "# Robot 4 energy: 20\n",
    "# Robot 5 energy: 20\n",
    "# After attack\n",
    "# Robot 4 energy: 16\n",
    "# Robot 5 energy: 20\n",
    "# After 2nd attack\n",
    "# Robot 4 energy: 12\n",
    "# Robot 5 energy: 24\n",
    "\n",
    "robot4 = Robot('robot4')\n",
    "robot5 = Robot('robot5')\n",
    "print('Robot 4 energy:', robot4.energy)\n",
    "print('Robot 5 energy:', robot5.energy)\n",
    "robot4.attack(robot5,4)\n",
    "print(\"After attack\")\n",
    "print('Robot 4 energy:', robot4.energy)\n",
    "print('Robot 5 energy:', robot5.energy)\n",
    "robot5.attack(robot4,4)\n",
    "print(\"After 2nd attack\")\n",
    "print('Robot 4 energy:', robot4.energy)\n",
    "print('Robot 5 energy:', robot5.energy)"
   ]
  },
  {
   "cell_type": "code",
   "execution_count": 18,
   "metadata": {
    "scrolled": true
   },
   "outputs": [
    {
     "name": "stdout",
     "output_type": "stream",
     "text": [
      "Robot 4 energy: 12\n",
      "Robot 5 energy: 24\n",
      "Robot 6 energy: 20\n",
      "After combining robot 3 and 6 into combo robot called: WidowMaker\n",
      "Robot4 component of: WidowMaker\n",
      "Robot6 component of: WidowMaker\n",
      "WidowMaker energy: 32\n",
      "After WidowMaker attacks Robot 5 with an energy of 12\n",
      "Robot5 energy: 12\n",
      "WidowMaker energy: 44\n"
     ]
    }
   ],
   "source": [
    "#Should print the following:\n",
    "# Robot 4 energy: 12\n",
    "# Robot 5 energy: 24\n",
    "# Robot 6 energy: 20\n",
    "# After combining robot 3 and 6 into combo robot called: WidowMaker\n",
    "# Robot4 component of: WidowMaker\n",
    "# Robot6 component of: WidowMaker\n",
    "# After WidowMaker attacks Robot 5 with an energy of 12\n",
    "# WidowMaker energy: 32\n",
    "# Robot5 energy: 12\n",
    "# WidowMaker energy: 44\n",
    "robot6 = Robot('robot6')\n",
    "print('Robot 4 energy:', robot4.energy)\n",
    "print('Robot 5 energy:', robot5.energy)\n",
    "print('Robot 6 energy:', robot6.energy)\n",
    "anotherComboRobot = robot4 + robot6\n",
    "setattr(anotherComboRobot,'name','WidowMaker')\n",
    "print(\"After combining robot 3 and 6 into combo robot called:\",anotherComboRobot.name)\n",
    "print('Robot4 component of:', getattr(robot4,'compound').name)\n",
    "print('Robot6 component of:', getattr(robot6,'compound').name)\n",
    "print(anotherComboRobot.name,'energy:',anotherComboRobot.energy)\n",
    "print(\"After\",anotherComboRobot.name,'attacks Robot 5 with an energy of 12')\n",
    "anotherComboRobot.attack(robot5,12)\n",
    "print('Robot5 energy:', robot5.energy)\n",
    "print(anotherComboRobot.name, 'energy:', anotherComboRobot.energy)"
   ]
  },
  {
   "cell_type": "code",
   "execution_count": 19,
   "metadata": {},
   "outputs": [
    {
     "name": "stdout",
     "output_type": "stream",
     "text": [
      "WidowMaker energy: 44\n",
      "Robot 5 energy: 12\n",
      "After adding robot 5 to WidowMaker\n",
      "WidowMaker energy: 56\n",
      "Robot 5 component of: WidowMaker\n",
      "WidowMaker is now also composed of robot5\n"
     ]
    }
   ],
   "source": [
    "#Should print the following:\n",
    "# WidowMaker energy: 44\n",
    "# Robot 5 energy: 12\n",
    "# After adding robot 5 to WidowMaker\n",
    "# WidowMaker energy: 56\n",
    "# Robot 5 component of: WidowMaker\n",
    "# WidowMaker is now also composed of robot5\n",
    "print(anotherComboRobot.name, 'energy:', anotherComboRobot.energy)\n",
    "print('Robot 5 energy:', robot5.energy)\n",
    "anotherComboRobot+=robot5\n",
    "print('After adding robot 5 to', anotherComboRobot.name)\n",
    "print(anotherComboRobot.name, 'energy:', anotherComboRobot.energy)\n",
    "print('Robot 5 component of:',getattr(robot5,'compound').name)\n",
    "print(anotherComboRobot.name,'is now also composed of',anotherComboRobot.components[2].name)"
   ]
  },
  {
   "cell_type": "code",
   "execution_count": 20,
   "metadata": {},
   "outputs": [
    {
     "name": "stdout",
     "output_type": "stream",
     "text": [
      "WidowMaker energy: 56\n",
      "Brutus energy: 60\n",
      "After Brutus attacks WidowMaker with an energy of 20\n",
      "WidowMaker energy: 36\n",
      "Brutus energy: 80\n"
     ]
    }
   ],
   "source": [
    "#Should print the following:\n",
    "# WidowMaker energy: 56\n",
    "# Brutus energy: 60\n",
    "# After Brutus attacks WidowMaker with an energy of 20\n",
    "# WidowMaker energy: 36\n",
    "# Brutus energy: 80\n",
    "print(anotherComboRobot.name, 'energy:', anotherComboRobot.energy)\n",
    "print(compound_robot.name, 'energy:', compound_robot.energy)\n",
    "compound_robot.attack(anotherComboRobot,20)\n",
    "print(\"After\",compound_robot.name,'attacks',anotherComboRobot.name,'with an energy of 20')\n",
    "print(anotherComboRobot.name, 'energy:', anotherComboRobot.energy)\n",
    "print(compound_robot.name, 'energy:', compound_robot.energy)"
   ]
  }
 ],
 "metadata": {
  "kernelspec": {
   "display_name": "Python 3",
   "language": "python",
   "name": "python3"
  },
  "language_info": {
   "codemirror_mode": {
    "name": "ipython",
    "version": 3
   },
   "file_extension": ".py",
   "mimetype": "text/x-python",
   "name": "python",
   "nbconvert_exporter": "python",
   "pygments_lexer": "ipython3",
   "version": "3.7.3"
  }
 },
 "nbformat": 4,
 "nbformat_minor": 2
}
